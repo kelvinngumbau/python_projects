{
 "cells": [
  {
   "cell_type": "code",
   "execution_count": 1,
   "id": "95a7d0f5",
   "metadata": {},
   "outputs": [
    {
     "name": "stdout",
     "output_type": "stream",
     "text": [
      "dad\n"
     ]
    }
   ],
   "source": [
    "def my_family(age):\n",
    "    \n",
    "    family = {\n",
    "        'dad' : range(40,100),\n",
    "        'mom' : range(50),\n",
    "        'child' : range(0,18)\n",
    "    }\n",
    "    \n",
    "    for member, age_range in family.items():\n",
    "        \n",
    "        if age in age_range:\n",
    "            \n",
    "            return member\n",
    "        \n",
    "        return \"unknown\"\n",
    "    \n",
    "print(my_family(45))"
   ]
  },
  {
   "cell_type": "code",
   "execution_count": null,
   "id": "734300e2",
   "metadata": {},
   "outputs": [],
   "source": []
  }
 ],
 "metadata": {
  "kernelspec": {
   "display_name": "Python 3 (ipykernel)",
   "language": "python",
   "name": "python3"
  },
  "language_info": {
   "codemirror_mode": {
    "name": "ipython",
    "version": 3
   },
   "file_extension": ".py",
   "mimetype": "text/x-python",
   "name": "python",
   "nbconvert_exporter": "python",
   "pygments_lexer": "ipython3",
   "version": "3.9.13"
  }
 },
 "nbformat": 4,
 "nbformat_minor": 5
}
