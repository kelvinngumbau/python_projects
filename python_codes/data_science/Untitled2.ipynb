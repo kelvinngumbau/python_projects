{
 "cells": [
  {
   "cell_type": "code",
   "execution_count": null,
   "id": "a0b62ac1",
   "metadata": {},
   "outputs": [],
   "source": [
    "from tkinter import *\n",
    "\n",
    "root = Tk()\n",
    "\n",
    "label = Label(root, text = \"hello \\n world!\", width = 10, height = 10, fg = \"white\", bg =\"black\")\n",
    "\n",
    "label.place(x=0,y=0)\n",
    "\n",
    "button = Button(root, text = \"click\", fg=\"white\", bg=\"blue\", width=10, height = 1)\n",
    "button.place(x = 100, y = 100)\n",
    "\n",
    "name = Label(root, text = \"Enter your name\")\n",
    "\n",
    "name.pack()\n",
    "\n",
    "entry = Entry(root, fg = \"white\", bg=\"black\", width = 15)\n",
    "\n",
    "\n",
    "\n",
    "name = entry.get()\n",
    "name\n",
    "\n",
    "entry.delete(0)\n",
    "\n",
    "entry.pack()\n",
    "\n",
    "\n",
    "root.mainloop()"
   ]
  },
  {
   "cell_type": "code",
   "execution_count": null,
   "id": "7afaedae",
   "metadata": {},
   "outputs": [],
   "source": []
  }
 ],
 "metadata": {
  "kernelspec": {
   "display_name": "Python 3 (ipykernel)",
   "language": "python",
   "name": "python3"
  },
  "language_info": {
   "codemirror_mode": {
    "name": "ipython",
    "version": 3
   },
   "file_extension": ".py",
   "mimetype": "text/x-python",
   "name": "python",
   "nbconvert_exporter": "python",
   "pygments_lexer": "ipython3",
   "version": "3.9.13"
  }
 },
 "nbformat": 4,
 "nbformat_minor": 5
}
