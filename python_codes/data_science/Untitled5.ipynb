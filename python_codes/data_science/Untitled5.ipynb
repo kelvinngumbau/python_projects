{
 "cells": [
  {
   "cell_type": "code",
   "execution_count": 14,
   "id": "bc63543f",
   "metadata": {},
   "outputs": [
    {
     "name": "stdout",
     "output_type": "stream",
     "text": [
      "hello Mr kelvin Ngumbau welcome to our school for teaching practical and benchmarking\n",
      "hello mr kelvin! How old are you 30\n"
     ]
    }
   ],
   "source": [
    "class Teacher:\n",
    "    \n",
    "    def __init__(self,first_name,last_name):\n",
    "        \n",
    "        self.first_name = first_name\n",
    "        self.last_name = last_name\n",
    "        \n",
    "        print(\"hello Mr {} {} welcome to our school for teaching practical and benchmarking\".format(first_name,last_name))\n",
    "        \n",
    "    def Teachers_age(self,age):\n",
    "        \n",
    "        print(\"hello mr \" + self.first_name+ \"! How old are you {}\".format(age))\n",
    "x = Teacher(\"kelvin\",\"Ngumbau\")\n",
    "x.Teachers_age(30)"
   ]
  },
  {
   "cell_type": "code",
   "execution_count": null,
   "id": "e4f874df",
   "metadata": {},
   "outputs": [],
   "source": []
  }
 ],
 "metadata": {
  "kernelspec": {
   "display_name": "Python 3 (ipykernel)",
   "language": "python",
   "name": "python3"
  },
  "language_info": {
   "codemirror_mode": {
    "name": "ipython",
    "version": 3
   },
   "file_extension": ".py",
   "mimetype": "text/x-python",
   "name": "python",
   "nbconvert_exporter": "python",
   "pygments_lexer": "ipython3",
   "version": "3.9.13"
  }
 },
 "nbformat": 4,
 "nbformat_minor": 5
}
