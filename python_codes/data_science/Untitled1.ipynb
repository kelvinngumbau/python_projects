{
 "cells": [
  {
   "cell_type": "code",
   "execution_count": 21,
   "id": "a664935d",
   "metadata": {},
   "outputs": [
    {
     "name": "stdout",
     "output_type": "stream",
     "text": [
      "button clicked\n",
      "button clicked\n",
      "button clicked\n",
      "button clicked\n",
      "button clicked\n",
      "button clicked\n",
      "button clicked\n",
      "button clicked\n"
     ]
    }
   ],
   "source": [
    "from tkinter import *\n",
    "\n",
    "def clickButton():\n",
    "    print(\"button clicked\")\n",
    "top = Tk()\n",
    "\n",
    "w = Label(top, text=\"creating applications using tkinter\")\n",
    "w.pack()\n",
    "backbutton = Button(top, text=\"back\", fg=\"blue\")\n",
    "backbutton.pack(side=LEFT)\n",
    "\n",
    "nextbutton = Button(top, text=\"Next\", fg=\"blue\")\n",
    "nextbutton.pack(side=LEFT)\n",
    "\n",
    "cancelbutton = Button(top, text=\"cancel\", fg=\"blue\")\n",
    "cancelbutton.pack(side=LEFT)\n",
    "\n",
    "exitbutton = Button(top, text=\"exit\", fg=\"blue\", command=clickButton)\n",
    "exitbutton.pack(side=LEFT)\n",
    "top.mainloop()"
   ]
  },
  {
   "cell_type": "code",
   "execution_count": null,
   "id": "9ad7af14",
   "metadata": {},
   "outputs": [],
   "source": []
  },
  {
   "cell_type": "code",
   "execution_count": null,
   "id": "cfd17241",
   "metadata": {},
   "outputs": [],
   "source": []
  },
  {
   "cell_type": "code",
   "execution_count": null,
   "id": "f00b98c3",
   "metadata": {},
   "outputs": [],
   "source": []
  }
 ],
 "metadata": {
  "kernelspec": {
   "display_name": "Python 3 (ipykernel)",
   "language": "python",
   "name": "python3"
  },
  "language_info": {
   "codemirror_mode": {
    "name": "ipython",
    "version": 3
   },
   "file_extension": ".py",
   "mimetype": "text/x-python",
   "name": "python",
   "nbconvert_exporter": "python",
   "pygments_lexer": "ipython3",
   "version": "3.9.13"
  }
 },
 "nbformat": 4,
 "nbformat_minor": 5
}
