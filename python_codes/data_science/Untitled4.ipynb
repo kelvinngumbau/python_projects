{
 "cells": [
  {
   "cell_type": "code",
   "execution_count": 4,
   "id": "2444a3b6",
   "metadata": {},
   "outputs": [
    {
     "name": "stdout",
     "output_type": "stream",
     "text": [
      "bro\n",
      " code\n",
      "bro code\n",
      "<class 'str'>\n",
      "<class 'str'>\n",
      "hello bro code\n"
     ]
    }
   ],
   "source": [
    "name = \"bro\"\n",
    "\n",
    "last_name = \" code\"\n",
    "\n",
    "full_name = name + last_name\n",
    "\n",
    "print(name)\n",
    "\n",
    "print(last_name)\n",
    "\n",
    "print(full_name)\n",
    "\n",
    "print(type(name))\n",
    "\n",
    "print(type(full_name))\n",
    "\n",
    "print(\"hello \" + full_name)"
   ]
  },
  {
   "cell_type": "code",
   "execution_count": 9,
   "id": "1efc99b9",
   "metadata": {},
   "outputs": [
    {
     "name": "stdout",
     "output_type": "stream",
     "text": [
      "22\n",
      "<class 'int'>\n"
     ]
    }
   ],
   "source": [
    "age = 21\n",
    "\n",
    "age +=1\n",
    "print(age)\n",
    "\n",
    "print(type(age))\n",
    "\n"
   ]
  },
  {
   "cell_type": "code",
   "execution_count": 10,
   "id": "8cb061d8",
   "metadata": {},
   "outputs": [
    {
     "name": "stdout",
     "output_type": "stream",
     "text": [
      "23.5\n",
      "<class 'float'>\n",
      "my height is 23.5cm\n"
     ]
    }
   ],
   "source": [
    "float1 = 23.5\n",
    "\n",
    "print(float1)\n",
    "\n",
    "print(type(float1))\n",
    "\n",
    "print(\"my height is \" + str(float1) + \"cm\")"
   ]
  },
  {
   "cell_type": "code",
   "execution_count": 12,
   "id": "fa7a370e",
   "metadata": {},
   "outputs": [
    {
     "name": "stdout",
     "output_type": "stream",
     "text": [
      "True\n",
      "<class 'bool'>\n",
      "are you human? True\n"
     ]
    }
   ],
   "source": [
    "bools = True\n",
    "\n",
    "print(bools)\n",
    "\n",
    "print(type(bools))\n",
    "\n",
    "print(\"are you human? \" + str(bools))"
   ]
  },
  {
   "cell_type": "code",
   "execution_count": 14,
   "id": "83a66d86",
   "metadata": {},
   "outputs": [
    {
     "name": "stdout",
     "output_type": "stream",
     "text": [
      "30\n"
     ]
    }
   ],
   "source": [
    "mutuku=kasyoki=ndambuki = 30\n",
    "\n",
    "print(mutuku)"
   ]
  },
  {
   "cell_type": "code",
   "execution_count": 28,
   "id": "388070ec",
   "metadata": {},
   "outputs": [
    {
     "name": "stdout",
     "output_type": "stream",
     "text": [
      "4\n",
      "Kelvin\n",
      "Kelvin\n",
      "True\n",
      "False\n",
      "KELVIN\n",
      "kelvin\n",
      "MelvinMelvinMelvin\n",
      "kelvinkelvinkelvin\n"
     ]
    }
   ],
   "source": [
    "name = \"kelvin\"\n",
    "\n",
    "print(name.find(\"i\"))\n",
    "print(name.capitalize())\n",
    "print(name.title())\n",
    "print(name.isalpha())\n",
    "print(name.isdigit())\n",
    "print(name.upper())\n",
    "print(name.lower())\n",
    "print(name.replace('k','M')*3)\n",
    "print(name*3)"
   ]
  },
  {
   "cell_type": "code",
   "execution_count": null,
   "id": "5dda03da",
   "metadata": {},
   "outputs": [],
   "source": []
  }
 ],
 "metadata": {
  "kernelspec": {
   "display_name": "Python 3 (ipykernel)",
   "language": "python",
   "name": "python3"
  },
  "language_info": {
   "codemirror_mode": {
    "name": "ipython",
    "version": 3
   },
   "file_extension": ".py",
   "mimetype": "text/x-python",
   "name": "python",
   "nbconvert_exporter": "python",
   "pygments_lexer": "ipython3",
   "version": "3.9.13"
  }
 },
 "nbformat": 4,
 "nbformat_minor": 5
}
