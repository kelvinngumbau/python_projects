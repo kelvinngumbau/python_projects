{
 "cells": [
  {
   "cell_type": "code",
   "execution_count": 4,
   "id": "36391bfa",
   "metadata": {},
   "outputs": [
    {
     "name": "stdout",
     "output_type": "stream",
     "text": [
      "ok\n"
     ]
    }
   ],
   "source": [
    "d = { 'a': 0, 'b' : 1, 'c' : 0}\n",
    "\n",
    "if d['a'] > 0:\n",
    "    print('ok')\n",
    "\n",
    "elif d['b'] > 0:\n",
    "    \n",
    "    print('ok')\n",
    "elif d['c'] > 0:\n",
    "    print('ok')\n",
    "elif d['d'] > 0:\n",
    "    \n",
    "    print('ok')\n",
    "else:\n",
    "    print('ok')"
   ]
  },
  {
   "cell_type": "code",
   "execution_count": null,
   "id": "f55837e5",
   "metadata": {},
   "outputs": [],
   "source": []
  }
 ],
 "metadata": {
  "kernelspec": {
   "display_name": "Python 3 (ipykernel)",
   "language": "python",
   "name": "python3"
  },
  "language_info": {
   "codemirror_mode": {
    "name": "ipython",
    "version": 3
   },
   "file_extension": ".py",
   "mimetype": "text/x-python",
   "name": "python",
   "nbconvert_exporter": "python",
   "pygments_lexer": "ipython3",
   "version": "3.9.13"
  }
 },
 "nbformat": 4,
 "nbformat_minor": 5
}
