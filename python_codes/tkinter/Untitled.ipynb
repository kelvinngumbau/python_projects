{
 "cells": [
  {
   "cell_type": "code",
   "execution_count": 13,
   "id": "415c853f",
   "metadata": {},
   "outputs": [
    {
     "name": "stdout",
     "output_type": "stream",
     "text": [
      "The text is: hhhhhh\n",
      "The text is: hhhhhh\n",
      "The text is: hhhhhh\n",
      "The text is: hhhhhh\n",
      "The text is: hhhhhh\n",
      "The text is: hhhhhh\n",
      "The text is: hhhhhh\n",
      "The text is: hello everyone\n"
     ]
    }
   ],
   "source": [
    "from tkinter import * \n",
    "# Hold onto a global reference for the root window \n",
    "root = None \n",
    "# Hold onto the Text Entry Box also \n",
    "entryBox = None \n",
    "def buttonPushed(): \n",
    " global entryBox \n",
    " txt = entryBox.get() \n",
    " print(\"The text is:\",txt )\n",
    "def createTextBox(parent): \n",
    " global entryBox \n",
    " entryBox = Entry(parent) \n",
    " entryBox.pack() \n",
    "def main(): \n",
    " global root \n",
    " root = Tk() # Create the root (base) window where all widgets go \n",
    " myButton = Button(root, text=\"Show Text\",command=buttonPushed) \n",
    " myButton.pack() \n",
    " createTextBox(root) \n",
    " root.mainloop() # Start the event loop \n",
    "main()"
   ]
  },
  {
   "cell_type": "code",
   "execution_count": null,
   "id": "bd87cc7b",
   "metadata": {},
   "outputs": [],
   "source": []
  }
 ],
 "metadata": {
  "kernelspec": {
   "display_name": "Python 3 (ipykernel)",
   "language": "python",
   "name": "python3"
  },
  "language_info": {
   "codemirror_mode": {
    "name": "ipython",
    "version": 3
   },
   "file_extension": ".py",
   "mimetype": "text/x-python",
   "name": "python",
   "nbconvert_exporter": "python",
   "pygments_lexer": "ipython3",
   "version": "3.9.13"
  }
 },
 "nbformat": 4,
 "nbformat_minor": 5
}
